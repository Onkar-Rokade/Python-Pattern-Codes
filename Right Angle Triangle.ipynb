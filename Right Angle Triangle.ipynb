{
 "cells": [
  {
   "cell_type": "code",
   "execution_count": 3,
   "id": "be774c93",
   "metadata": {},
   "outputs": [
    {
     "name": "stdout",
     "output_type": "stream",
     "text": [
      "Enter the number of rows :7\n",
      "\n",
      "* \n",
      "* * \n",
      "* * * \n",
      "* * * * \n",
      "* * * * * \n",
      "* * * * * * \n",
      "* * * * * * * "
     ]
    }
   ],
   "source": [
    "n = int(input(\"Enter the number of rows :\"))\n",
    "for i in range (n):\n",
    "    print()\n",
    "    for j in range (0,i+1):\n",
    "        print(\"* \" , end = \"\")"
   ]
  },
  {
   "cell_type": "code",
   "execution_count": 16,
   "id": "d029a67f",
   "metadata": {},
   "outputs": [
    {
     "name": "stdout",
     "output_type": "stream",
     "text": [
      "Enter the number of rows :7\n",
      "\n",
      "* * * * * * * \n",
      "* * * * * * \n",
      "* * * * * \n",
      "* * * * \n",
      "* * * \n",
      "* * \n",
      "* "
     ]
    }
   ],
   "source": [
    "n = int(input(\"Enter the number of rows :\"))\n",
    "for i in range (1,n+1):\n",
    "    print()\n",
    "    for j in range (1,n+2-i):\n",
    "        print(\"* \" , end = \"\")"
   ]
  },
  {
   "cell_type": "code",
   "execution_count": null,
   "id": "873f5c8e",
   "metadata": {},
   "outputs": [],
   "source": []
  }
 ],
 "metadata": {
  "kernelspec": {
   "display_name": "Python 3 (ipykernel)",
   "language": "python",
   "name": "python3"
  },
  "language_info": {
   "codemirror_mode": {
    "name": "ipython",
    "version": 3
   },
   "file_extension": ".py",
   "mimetype": "text/x-python",
   "name": "python",
   "nbconvert_exporter": "python",
   "pygments_lexer": "ipython3",
   "version": "3.9.2"
  }
 },
 "nbformat": 4,
 "nbformat_minor": 5
}
