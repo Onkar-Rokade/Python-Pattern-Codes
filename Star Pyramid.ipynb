{
 "cells": [
  {
   "cell_type": "markdown",
   "id": "a39b3fbb",
   "metadata": {},
   "source": [
    "## Star Pyramid"
   ]
  },
  {
   "cell_type": "markdown",
   "id": "28587a9d",
   "metadata": {},
   "source": [
    "''' What we really want is,\n",
    "(if n = 7 )\n",
    "On first line we want six space and one star ,\n",
    "on second line five space and two stars ,\n",
    "on third line four space and three stars... and so on '''"
   ]
  },
  {
   "cell_type": "code",
   "execution_count": 22,
   "id": "f9e24331",
   "metadata": {},
   "outputs": [
    {
     "name": "stdout",
     "output_type": "stream",
     "text": [
      "Enter the number of rows :7\n",
      "       * \n",
      "      * * \n",
      "     * * * \n",
      "    * * * * \n",
      "   * * * * * \n",
      "  * * * * * * \n",
      " * * * * * * * \n"
     ]
    }
   ],
   "source": [
    "n = int(input(\"Enter the number of rows :\"))\n",
    "i = 0\n",
    "while i < n :\n",
    "    print((\" \")*(n-i) + \"* \" * (i+1))\n",
    "    i += 1"
   ]
  },
  {
   "cell_type": "markdown",
   "id": "b8eeaf70",
   "metadata": {},
   "source": [
    "#### With for loop"
   ]
  },
  {
   "cell_type": "code",
   "execution_count": 26,
   "id": "545e1ee5",
   "metadata": {},
   "outputs": [
    {
     "name": "stdout",
     "output_type": "stream",
     "text": [
      "Enter the number of rows : 7\n",
      "       * \n",
      "      * * \n",
      "     * * * \n",
      "    * * * * \n",
      "   * * * * * \n",
      "  * * * * * * \n",
      " * * * * * * * \n"
     ]
    }
   ],
   "source": [
    "n = int(input(\"Enter the number of rows : \"))\n",
    "for i in range (n):\n",
    "    print((\" \")*(n-i) + \"* \" * (i+1))        "
   ]
  },
  {
   "cell_type": "code",
   "execution_count": 11,
   "id": "6bce34bb",
   "metadata": {},
   "outputs": [
    {
     "name": "stdout",
     "output_type": "stream",
     "text": [
      "Enter the number of rows : 7\n",
      "* * * * * * * \n",
      " * * * * * * \n",
      "  * * * * * \n",
      "   * * * * \n",
      "    * * * \n",
      "     * * \n",
      "      * \n"
     ]
    }
   ],
   "source": [
    "n = int(input(\"Enter the number of rows : \"))\n",
    "for i in range (n):\n",
    "    print((\" \")*(i)+\"* \"*(n-i))"
   ]
  },
  {
   "cell_type": "code",
   "execution_count": null,
   "id": "d7f25a38",
   "metadata": {},
   "outputs": [],
   "source": []
  }
 ],
 "metadata": {
  "kernelspec": {
   "display_name": "Python 3 (ipykernel)",
   "language": "python",
   "name": "python3"
  },
  "language_info": {
   "codemirror_mode": {
    "name": "ipython",
    "version": 3
   },
   "file_extension": ".py",
   "mimetype": "text/x-python",
   "name": "python",
   "nbconvert_exporter": "python",
   "pygments_lexer": "ipython3",
   "version": "3.9.2"
  }
 },
 "nbformat": 4,
 "nbformat_minor": 5
}
