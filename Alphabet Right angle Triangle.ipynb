{
 "cells": [
  {
   "cell_type": "code",
   "execution_count": 1,
   "id": "10af7c05",
   "metadata": {},
   "outputs": [
    {
     "name": "stdout",
     "output_type": "stream",
     "text": [
      "Enter the number of rows :4\n",
      "A \n",
      "B B \n",
      "C C C \n",
      "D D D D \n"
     ]
    }
   ],
   "source": [
    "n = int(input(\"Enter the number of rows :\"))\n",
    "for i in range (n):\n",
    "    print((chr(65+i)+' ')* (i+1))"
   ]
  },
  {
   "cell_type": "code",
   "execution_count": 17,
   "id": "3a5d8160",
   "metadata": {},
   "outputs": [
    {
     "name": "stdout",
     "output_type": "stream",
     "text": [
      "Enter the number of rows :4\n",
      "\n",
      "A \n",
      "A B \n",
      "A B C \n",
      "A B C D "
     ]
    }
   ],
   "source": [
    "n = int(input(\"Enter the number of rows :\"))\n",
    "for i in range (n):\n",
    "    print()\n",
    "    for j in range (0,i+1):\n",
    "        print(chr(65+j), end=\" \")"
   ]
  },
  {
   "cell_type": "code",
   "execution_count": 24,
   "id": "f9e2e6c7",
   "metadata": {},
   "outputs": [
    {
     "name": "stdout",
     "output_type": "stream",
     "text": [
      "Enter the number of rows :3\n",
      "\n",
      "A A A \n",
      "B B \n",
      "C "
     ]
    }
   ],
   "source": [
    "n = int(input(\"Enter the number of rows :\"))\n",
    "for i in range (1,n+1):\n",
    "    print()\n",
    "    for j in range (1,n+2-i):\n",
    "        print((chr(64+i)+' '), end = \"\")"
   ]
  },
  {
   "cell_type": "code",
   "execution_count": 25,
   "id": "4d3088bb",
   "metadata": {},
   "outputs": [
    {
     "name": "stdout",
     "output_type": "stream",
     "text": [
      "Enter the number of rows :3\n",
      "\n",
      "A B C \n",
      "A B \n",
      "A "
     ]
    }
   ],
   "source": [
    "n = int(input(\"Enter the number of rows :\"))\n",
    "for i in range (1,n+1):\n",
    "    print()\n",
    "    for j in range (1,n+2-i):\n",
    "        print((chr(64+j)+' '), end = \"\")"
   ]
  },
  {
   "cell_type": "code",
   "execution_count": null,
   "id": "f960d42f",
   "metadata": {},
   "outputs": [],
   "source": []
  }
 ],
 "metadata": {
  "kernelspec": {
   "display_name": "Python 3 (ipykernel)",
   "language": "python",
   "name": "python3"
  },
  "language_info": {
   "codemirror_mode": {
    "name": "ipython",
    "version": 3
   },
   "file_extension": ".py",
   "mimetype": "text/x-python",
   "name": "python",
   "nbconvert_exporter": "python",
   "pygments_lexer": "ipython3",
   "version": "3.9.2"
  }
 },
 "nbformat": 4,
 "nbformat_minor": 5
}
