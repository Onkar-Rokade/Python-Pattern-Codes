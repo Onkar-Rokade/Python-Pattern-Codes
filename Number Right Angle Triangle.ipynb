{
 "cells": [
  {
   "cell_type": "code",
   "execution_count": 24,
   "id": "bcb535ff",
   "metadata": {},
   "outputs": [
    {
     "name": "stdout",
     "output_type": "stream",
     "text": [
      "Enter the number of rows :4\n",
      "\n",
      "1\n",
      "12\n",
      "123\n",
      "1234"
     ]
    }
   ],
   "source": [
    "n = int(input(\"Enter the number of rows :\"))\n",
    "for i in range (n):\n",
    "    print()\n",
    "    for j in range (1,i+2):\n",
    "        print(j , end = \"\")"
   ]
  },
  {
   "cell_type": "code",
   "execution_count": 25,
   "id": "e5c97917",
   "metadata": {},
   "outputs": [
    {
     "name": "stdout",
     "output_type": "stream",
     "text": [
      "Enter the number of rows :4\n",
      "\n",
      "1\n",
      "22\n",
      "333\n",
      "4444"
     ]
    }
   ],
   "source": [
    "n = int(input(\"Enter the number of rows :\"))\n",
    "for i in range (1,n+1):\n",
    "    print()\n",
    "    for j in range (1,i+1):\n",
    "        print(i , end = \"\")"
   ]
  },
  {
   "cell_type": "code",
   "execution_count": 30,
   "id": "2127fbb4",
   "metadata": {},
   "outputs": [
    {
     "name": "stdout",
     "output_type": "stream",
     "text": [
      "Enter the number of rows :4\n",
      "\n",
      "1 1 1 1 \n",
      "2 2 2 \n",
      "3 3 \n",
      "4 "
     ]
    }
   ],
   "source": [
    "n = int(input(\"Enter the number of rows :\"))\n",
    "for i in range (1,n+1):\n",
    "    print()\n",
    "    for j in range (1,n+2-i):\n",
    "        print(i , end = \" \")"
   ]
  },
  {
   "cell_type": "code",
   "execution_count": 31,
   "id": "4cd96c7d",
   "metadata": {},
   "outputs": [
    {
     "name": "stdout",
     "output_type": "stream",
     "text": [
      "Enter the number of rows :4\n",
      "\n",
      "1 2 3 4 \n",
      "1 2 3 \n",
      "1 2 \n",
      "1 "
     ]
    }
   ],
   "source": [
    "n = int(input(\"Enter the number of rows :\"))\n",
    "for i in range (1,n+1):\n",
    "    print()\n",
    "    for j in range (1,n+2-i):\n",
    "        print(j , end = \" \")"
   ]
  }
 ],
 "metadata": {
  "kernelspec": {
   "display_name": "Python 3 (ipykernel)",
   "language": "python",
   "name": "python3"
  },
  "language_info": {
   "codemirror_mode": {
    "name": "ipython",
    "version": 3
   },
   "file_extension": ".py",
   "mimetype": "text/x-python",
   "name": "python",
   "nbconvert_exporter": "python",
   "pygments_lexer": "ipython3",
   "version": "3.9.2"
  }
 },
 "nbformat": 4,
 "nbformat_minor": 5
}
